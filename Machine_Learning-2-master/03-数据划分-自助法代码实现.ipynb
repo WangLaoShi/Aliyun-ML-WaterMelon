{
 "cells": [
  {
   "cell_type": "markdown",
   "metadata": {},
   "source": [
    "自助法： 给定包含m个样本的数据集D DD，我们对它进行采样产生数据集D′ D&#x27;D \n",
    "′\n",
    " ：每次随机从D DD中挑选一个样本，将其复制到D′ D&#x27;D \n",
    "′\n",
    " 中，然后再将其样本放回原始数据集D DD中，使得该样本在下次采样的时候也可能被采到；这个过程重复执行m次，我们就得到了包含m个样本的数据集D′ D&#x27;D \n",
    "′\n",
    " 。简而言之，就是从数据集D DD中，有放回随机采样m次，组成一个新样本集D′ D&#x27;D \n",
    "′\n",
    " 。"
   ]
  },
  {
   "cell_type": "code",
   "execution_count": 7,
   "metadata": {},
   "outputs": [],
   "source": [
    "import numpy as np\n",
    "# 随机产生我们的数据集\n",
    "x = np.random.randint(-10, 10, 10)\n",
    "y = (x > 0).astype(int)"
   ]
  },
  {
   "cell_type": "code",
   "execution_count": 8,
   "metadata": {},
   "outputs": [
    {
     "data": {
      "text/plain": [
       "array([ 6, -3,  7,  9, -7,  8, -6,  1,  6, -3])"
      ]
     },
     "execution_count": 8,
     "metadata": {},
     "output_type": "execute_result"
    }
   ],
   "source": [
    "x"
   ]
  },
  {
   "cell_type": "code",
   "execution_count": 10,
   "metadata": {},
   "outputs": [],
   "source": [
    "#通过产生的随机数获得抽取样本的序号\n",
    "bootstrapping = []\n",
    "for i in range(len(x)):\n",
    "    bootstrapping.append(np.floor(np.random.random()*len(x)))\n",
    "#通过序号获得原始数据集中的数据\n",
    "x_1 = []\n",
    "y_1 = []\n",
    "for i in range(len(x)):\n",
    "    x_1.append(x[int(bootstrapping[i])])\n",
    "    y_1.append(y[int(bootstrapping[i])])"
   ]
  },
  {
   "cell_type": "code",
   "execution_count": 11,
   "metadata": {},
   "outputs": [
    {
     "data": {
      "text/plain": [
       "[1, -7, -3, -6, 7, 9, -3, 8, 7, 6]"
      ]
     },
     "execution_count": 11,
     "metadata": {},
     "output_type": "execute_result"
    }
   ],
   "source": [
    "x_1"
   ]
  },
  {
   "cell_type": "code",
   "execution_count": 13,
   "metadata": {},
   "outputs": [
    {
     "data": {
      "text/plain": [
       "[1, 0, 0, 0, 1, 1, 0, 1, 1, 1]"
      ]
     },
     "execution_count": 13,
     "metadata": {},
     "output_type": "execute_result"
    }
   ],
   "source": [
    "y_1"
   ]
  },
  {
   "cell_type": "markdown",
   "metadata": {},
   "source": [
    "我们的自助法结束"
   ]
  }
 ],
 "metadata": {
  "kernelspec": {
   "display_name": "Python 3",
   "language": "python",
   "name": "python3"
  },
  "language_info": {
   "codemirror_mode": {
    "name": "ipython",
    "version": 3
   },
   "file_extension": ".py",
   "mimetype": "text/x-python",
   "name": "python",
   "nbconvert_exporter": "python",
   "pygments_lexer": "ipython3",
   "version": "3.7.1"
  }
 },
 "nbformat": 4,
 "nbformat_minor": 2
}
