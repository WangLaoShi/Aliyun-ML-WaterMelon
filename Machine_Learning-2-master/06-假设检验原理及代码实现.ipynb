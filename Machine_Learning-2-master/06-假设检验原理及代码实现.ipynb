{
 "cells": [
  {
   "cell_type": "markdown",
   "metadata": {},
   "source": [
    "假设检验原理及代码实现"
   ]
  },
  {
   "cell_type": "markdown",
   "metadata": {},
   "source": [
    "<div  align=\"center\">    \n",
    "    <img src='./img/hypothesis.jpg', width= 600, height = 200>\n",
    "</div>"
   ]
  },
  {
   "cell_type": "code",
   "execution_count": null,
   "metadata": {},
   "outputs": [],
   "source": [
    "import numpy as np"
   ]
  },
  {
   "cell_type": "code",
   "execution_count": 8,
   "metadata": {},
   "outputs": [],
   "source": [
    "data = np.random.normal(0, 1, size=30)"
   ]
  },
  {
   "cell_type": "code",
   "execution_count": 4,
   "metadata": {},
   "outputs": [
    {
     "data": {
      "text/plain": [
       "array([ 1.32754823,  1.05940883,  0.81084429,  4.56483859,  0.10738699,\n",
       "       -0.26099074,  3.12170907, -0.98671979, -0.44635698,  4.28463288,\n",
       "       -1.1506047 ,  1.98578261, -0.34540635,  1.69825996,  3.84831483,\n",
       "        0.91879312,  1.15417454,  0.04342395,  0.43493596, -1.40026546,\n",
       "        0.54661907, -0.78112935,  3.41633838, -0.50515066,  3.15651815,\n",
       "       -0.72533661,  0.06636981,  1.05291759,  0.17542613,  0.66416965])"
      ]
     },
     "execution_count": 4,
     "metadata": {},
     "output_type": "execute_result"
    }
   ],
   "source": [
    "data"
   ]
  },
  {
   "cell_type": "code",
   "execution_count": 16,
   "metadata": {},
   "outputs": [],
   "source": [
    "from scipy.stats import t\n",
    "def t_test(data, mu=0):\n",
    "    mean_val = np.mean(data)\n",
    "    se = np.std(data)/np.sqrt(len(data))\n",
    "    df = len(data) -1  # 自由度\n",
    "    p_val = (mean_val-mu)/se\n",
    "    \n",
    "    t_val = t.cdf(p_val, df)\n",
    "    return t_val"
   ]
  },
  {
   "cell_type": "code",
   "execution_count": 17,
   "metadata": {},
   "outputs": [],
   "source": [
    "mu = 0 \n",
    "t_val = t_test(data, mu)"
   ]
  },
  {
   "cell_type": "code",
   "execution_count": 18,
   "metadata": {},
   "outputs": [
    {
     "name": "stdout",
     "output_type": "stream",
     "text": [
      "0.2824024740214044\n"
     ]
    }
   ],
   "source": [
    "print(t_val)"
   ]
  },
  {
   "cell_type": "code",
   "execution_count": null,
   "metadata": {},
   "outputs": [],
   "source": [
    "t_val > 0.05 #说明我们不能拒绝零假设，所以该样本均值为0"
   ]
  }
 ],
 "metadata": {
  "kernelspec": {
   "display_name": "Python 3",
   "language": "python",
   "name": "python3"
  },
  "language_info": {
   "codemirror_mode": {
    "name": "ipython",
    "version": 3
   },
   "file_extension": ".py",
   "mimetype": "text/x-python",
   "name": "python",
   "nbconvert_exporter": "python",
   "pygments_lexer": "ipython3",
   "version": "3.7.1"
  }
 },
 "nbformat": 4,
 "nbformat_minor": 2
}
