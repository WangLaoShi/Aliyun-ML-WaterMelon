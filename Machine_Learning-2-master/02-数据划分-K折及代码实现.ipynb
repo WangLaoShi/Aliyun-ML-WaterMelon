{
 "cells": [
  {
   "cell_type": "markdown",
   "metadata": {},
   "source": [
    "k折交叉验证就是将数据集A随机分为k个包，每次将其中一个包作为测试集，剩下k-1个包作为训练集进行训练"
   ]
  },
  {
   "cell_type": "code",
   "execution_count": 2,
   "metadata": {},
   "outputs": [],
   "source": [
    "import numpy as np\n",
    "# 随机产生我们的数据集\n",
    "x = np.random.randint(-10, 10, 10)\n",
    "y = (x > 0).astype(int)"
   ]
  },
  {
   "cell_type": "code",
   "execution_count": 7,
   "metadata": {},
   "outputs": [
    {
     "name": "stdout",
     "output_type": "stream",
     "text": [
      "processing fold # 0\n",
      "[-8]\n",
      "[ -4   9   7  -3 -10   4   8  -3  -9]\n",
      "processing fold # 1\n",
      "[-4]\n",
      "[ -8   9   7  -3 -10   4   8  -3  -9]\n"
     ]
    }
   ],
   "source": [
    "k = 2 # 2折验证法\n",
    "num_val_samples = 1 # 定义我们的个数\n",
    "for i in range(k): \n",
    "    print('processing fold #', i) \n",
    "    test_x = x[i * num_val_samples: (i + 1) * num_val_samples] \n",
    "    test_y = y[i * num_val_samples: (i + 1) * num_val_samples] \n",
    "    #当i为1时，我们的train取到的应该是第0列和第2列之后的,所以进行数据的堆叠\n",
    "    train_x = np.concatenate( \n",
    "    [x[:i * num_val_samples], \n",
    "    x[(i + 1) * num_val_samples:]], \n",
    "    axis=0) \n",
    "    train_y = np.concatenate( \n",
    "    [y[:i * num_val_samples], \n",
    "    y[(i + 1) * num_val_samples:]], \n",
    "    axis=0) \n",
    "    \n",
    "    print(test_x)\n",
    "    print(train_x)"
   ]
  },
  {
   "cell_type": "markdown",
   "metadata": {},
   "source": [
    "K折验证法结束"
   ]
  }
 ],
 "metadata": {
  "kernelspec": {
   "display_name": "Python 3",
   "language": "python",
   "name": "python3"
  },
  "language_info": {
   "codemirror_mode": {
    "name": "ipython",
    "version": 3
   },
   "file_extension": ".py",
   "mimetype": "text/x-python",
   "name": "python",
   "nbconvert_exporter": "python",
   "pygments_lexer": "ipython3",
   "version": "3.7.1"
  }
 },
 "nbformat": 4,
 "nbformat_minor": 2
}
