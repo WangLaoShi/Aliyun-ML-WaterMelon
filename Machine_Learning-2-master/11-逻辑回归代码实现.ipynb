{
 "cells": [
  {
   "cell_type": "code",
   "execution_count": 1,
   "metadata": {},
   "outputs": [],
   "source": [
    "import numpy as np\n",
    "import matplotlib.pyplot as plt"
   ]
  },
  {
   "cell_type": "code",
   "execution_count": 2,
   "metadata": {},
   "outputs": [],
   "source": [
    "# 数据集的准备\n",
    "from sklearn import datasets\n",
    "iris = datasets.load_iris()\n",
    "iris_x = iris.data\n",
    "iris_y = iris.target\n",
    "\n",
    "# 由于我们的逻辑回归解决的是二分类问题，所以我们值需要前两二分类的数据就可以啦\n",
    "x = iris_x[iris_y<2, :2]\n",
    "y = iris_y[iris_y < 2]"
   ]
  },
  {
   "cell_type": "code",
   "execution_count": 3,
   "metadata": {},
   "outputs": [
    {
     "data": {
      "image/png": "[encoded data removed]",
      "text/plain": [
       "<Figure size 432x288 with 1 Axes>"
      ]
     },
     "metadata": {
      "needs_background": "light"
     },
     "output_type": "display_data"
    }
   ],
   "source": [
    "plt.scatter(x[y==0, 0], x[y==0, 1])\n",
    "plt.scatter(x[y==1, 0], x[y==1, 1])\n",
    "plt.show()"
   ]
  },
  {
   "cell_type": "code",
   "execution_count": 4,
   "metadata": {},
   "outputs": [],
   "source": [
    "# 对我们的数据进行划分\n",
    "from sklearn.model_selection import train_test_split\n",
    "train_x, test_x, train_y, test_y = train_test_split(x, y)"
   ]
  },
  {
   "cell_type": "code",
   "execution_count": 5,
   "metadata": {},
   "outputs": [],
   "source": [
    "# 定义我们sigmoid\n",
    "def sigmoid(z):\n",
    "    return 1/(1 + np.exp(-z))"
   ]
  },
  {
   "cell_type": "code",
   "execution_count": 6,
   "metadata": {},
   "outputs": [],
   "source": [
    "# 定义我们的算是函数\n",
    "def J(theta, x_b, y):\n",
    "    y_hat = sigmoid(x_b.dot(theta))\n",
    "    return -1/len(y) * np.sum((y * np.log(y_hat)) + ((1-y)*np.log(1-y_hat)))"
   ]
  },
  {
   "cell_type": "code",
   "execution_count": 7,
   "metadata": {},
   "outputs": [],
   "source": [
    "# 定义我们的导数，前面我们已经用公式推导出来了\n",
    "def dJ(theta, x_b, y):\n",
    "    return x_b.T.dot(sigmoid(x_b.dot(theta)) - y) / len(y)"
   ]
  },
  {
   "cell_type": "code",
   "execution_count": 16,
   "metadata": {},
   "outputs": [],
   "source": [
    "# 使用我们的梯度下降来求得最优解\n",
    "def gradient_descent(theta, x_b, y):  \n",
    "    # 利用我们的梯度下降来得到最佳的theta\n",
    "    eta = 0.1 # 学习学率\n",
    "    epsilon = 1e-8 # 相当于0的存在\n",
    "    # 此时，我们的theta，应该是一个向量，不再是一个标量\n",
    "    while True:\n",
    "        gradient = dJ(theta, x_b, y)\n",
    "        last_theta = theta\n",
    "        theta = theta - eta * gradient # 进行迭代操作\n",
    "\n",
    "        if abs(J(theta, x_b, y) - J(last_theta, x_b, y)) < epsilon:\n",
    "            return theta  # 返回最佳的theta值\n",
    "            break;"
   ]
  },
  {
   "cell_type": "code",
   "execution_count": 12,
   "metadata": {},
   "outputs": [],
   "source": [
    "# 这在前面的线性回归中已经有涉及到了\n",
    "x_b = np.hstack([ np.ones((len(train_x) ,1)),train_x])\n",
    "initial_theta = np.zeros(x_b.shape[1])"
   ]
  },
  {
   "cell_type": "code",
   "execution_count": 18,
   "metadata": {},
   "outputs": [],
   "source": [
    "theta = gradient_descent(initial_theta, x_b, train_y)"
   ]
  },
  {
   "cell_type": "code",
   "execution_count": 25,
   "metadata": {},
   "outputs": [],
   "source": [
    "# 进行数据的预测\n",
    "test_x_b = np.hstack([np.ones((len(test_x),1)), test_x])\n",
    "y_predict = test_x_b.dot(theta)"
   ]
  },
  {
   "cell_type": "code",
   "execution_count": 27,
   "metadata": {},
   "outputs": [
    {
     "data": {
      "text/plain": [
       "array([ 22.23224608,  11.73375123,   8.60881646,  14.59160444,\n",
       "        12.93375078,  19.03100229,  14.55344993,  25.1282538 ,\n",
       "        -9.60662906,   9.88512502,  -8.21585696,  13.04821431,\n",
       "        11.50482417, -14.31310847,  -8.44478402,  -8.06323892,\n",
       "       -15.8183441 , -17.17096168, -20.33405097,   2.58787396,\n",
       "         5.75096325,  18.99284778,  25.31902635,   0.96817481,\n",
       "        11.6192877 ])"
      ]
     },
     "execution_count": 27,
     "metadata": {},
     "output_type": "execute_result"
    }
   ],
   "source": [
    "y_predict   # 我们知道 > 0.5 为1， 小于0.5为0\n",
    "# 这就与我们前面的decisipon_function会联系起来"
   ]
  },
  {
   "cell_type": "code",
   "execution_count": 31,
   "metadata": {},
   "outputs": [
    {
     "data": {
      "text/plain": [
       "array([1, 1, 1, 1, 1, 1, 1, 1, 0, 1, 0, 1, 1, 0, 0, 0, 0, 0, 0, 1, 1, 1,\n",
       "       1, 1, 1])"
      ]
     },
     "execution_count": 31,
     "metadata": {},
     "output_type": "execute_result"
    }
   ],
   "source": [
    "np.array(y_predict>=0.5, dtype='int')"
   ]
  },
  {
   "cell_type": "code",
   "execution_count": 34,
   "metadata": {},
   "outputs": [
    {
     "data": {
      "text/plain": [
       "array([1, 1, 1, 1, 1, 1, 1, 1, 0, 1, 0, 1, 1, 0, 0, 0, 0, 0, 0, 1, 1, 1,\n",
       "       1, 1, 1])"
      ]
     },
     "execution_count": 34,
     "metadata": {},
     "output_type": "execute_result"
    }
   ],
   "source": [
    "test_y"
   ]
  },
  {
   "cell_type": "code",
   "execution_count": 39,
   "metadata": {},
   "outputs": [
    {
     "name": "stderr",
     "output_type": "stream",
     "text": [
      "C:\\Users\\Administrator\\Anaconda3\\lib\\site-packages\\sklearn\\linear_model\\logistic.py:433: FutureWarning: Default solver will be changed to 'lbfgs' in 0.22. Specify a solver to silence this warning.\n",
      "  FutureWarning)\n"
     ]
    },
    {
     "data": {
      "text/plain": [
       "array([ 3.55005607,  2.3121816 ,  1.5115783 ,  2.16064059,  1.42028741,\n",
       "        2.47741154,  2.02461998,  3.53453568, -1.38775287,  0.89172534,\n",
       "       -1.59954399,  1.82834925,  1.49605791, -2.65666812, -2.41566767,\n",
       "       -1.05546153, -2.85293885, -2.50512711, -3.44175102,  0.7264954 ,\n",
       "        1.66311931,  2.34139093,  4.21463875,  0.12216283,  1.90411975])"
      ]
     },
     "execution_count": 39,
     "metadata": {},
     "output_type": "execute_result"
    }
   ],
   "source": [
    "from sklearn.linear_model import LogisticRegression\n",
    "log_reg = LogisticRegression()\n",
    "log_reg.fit(train_x, train_y)\n",
    "log_reg.decision_function(test_x)"
   ]
  },
  {
   "cell_type": "markdown",
   "metadata": {},
   "source": [
    "上述可以自行比较一下"
   ]
  }
 ],
 "metadata": {
  "kernelspec": {
   "display_name": "Python 3",
   "language": "python",
   "name": "python3"
  },
  "language_info": {
   "codemirror_mode": {
    "name": "ipython",
    "version": 3
   },
   "file_extension": ".py",
   "mimetype": "text/x-python",
   "name": "python",
   "nbconvert_exporter": "python",
   "pygments_lexer": "ipython3",
   "version": "3.7.1"
  }
 },
 "nbformat": 4,
 "nbformat_minor": 2
}
