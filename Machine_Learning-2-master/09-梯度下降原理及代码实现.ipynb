{
 "cells": [
  {
   "cell_type": "markdown",
   "metadata": {},
   "source": [
    "梯度下降法的原理介绍"
   ]
  },
  {
   "cell_type": "markdown",
   "metadata": {},
   "source": [
    "<div  align=\"center\">    \n",
    "    <img src='./img/5.jpg', width= 600, height = 200>\n",
    "    <img src='./img/6.jpg', width= 600, height = 200>\n",
    "</div>"
   ]
  },
  {
   "cell_type": "markdown",
   "metadata": {},
   "source": [
    "梯度下降代码实现"
   ]
  },
  {
   "cell_type": "code",
   "execution_count": 7,
   "metadata": {},
   "outputs": [],
   "source": [
    "import numpy as np\n",
    "import matplotlib.pyplot as plt"
   ]
  },
  {
   "cell_type": "code",
   "execution_count": 16,
   "metadata": {},
   "outputs": [],
   "source": [
    "# 构造我们的数据集\n",
    "X = np.linspace(-5, 5, 50)\n",
    "Y = x**2 + 5"
   ]
  },
  {
   "cell_type": "code",
   "execution_count": 15,
   "metadata": {},
   "outputs": [],
   "source": [
    "def J(x):\n",
    "    return x**2 + 5\n",
    "\n",
    "def dJ(x):\n",
    "    return 2 * x"
   ]
  },
  {
   "cell_type": "code",
   "execution_count": 17,
   "metadata": {},
   "outputs": [
    {
     "name": "stdout",
     "output_type": "stream",
     "text": [
      "0.00013292279957849163\n",
      "5.00000001766847\n"
     ]
    }
   ],
   "source": [
    "eta = 0.1 # 学习学率\n",
    "epsilon = 1e-8 # 相当于0的存在\n",
    "x = 1\n",
    "while True:\n",
    "    gradient = dJ(x)\n",
    "    last_x = x\n",
    "    x = x - eta * gradient # 进行迭代操作\n",
    "    \n",
    "    if abs(J(x) - J(last_x)) < epsilon:\n",
    "        break;\n",
    "\n",
    "# 进行测试一下\n",
    "print(x)\n",
    "print(J(x))"
   ]
  },
  {
   "cell_type": "markdown",
   "metadata": {},
   "source": [
    "进行绘图感性了解一下"
   ]
  },
  {
   "cell_type": "code",
   "execution_count": 24,
   "metadata": {},
   "outputs": [],
   "source": [
    "eta = 0.3 # 学习学率\n",
    "epsilon = 1e-8 # 相当于0的存在\n",
    "x = 5\n",
    "history_x = [x]\n",
    "while True:\n",
    "    gradient = dJ(x)\n",
    "    last_x = x\n",
    "    x = x - eta * gradient # 进行迭代操作\n",
    "    history_x.append(x)\n",
    "    \n",
    "    if abs(J(x) - J(last_x)) < epsilon:\n",
    "        break;"
   ]
  },
  {
   "cell_type": "code",
   "execution_count": 26,
   "metadata": {},
   "outputs": [
    {
     "data": {
      "text/plain": [
       "[<matplotlib.lines.Line2D at 0x163f9236240>]"
      ]
     },
     "execution_count": 26,
     "metadata": {},
     "output_type": "execute_result"
    },
    {
     "data": {
      "image/png": "[encoded data removed]",
      "text/plain": [
       "<Figure size 432x288 with 1 Axes>"
      ]
     },
     "metadata": {
      "needs_background": "light"
     },
     "output_type": "display_data"
    }
   ],
   "source": [
    "plt.plot(X, Y)\n",
    "plt.plot(np.array(history_x), J(np.array(history_x)), color='r')"
   ]
  },
  {
   "cell_type": "markdown",
   "metadata": {},
   "source": [
    "END"
   ]
  }
 ],
 "metadata": {
  "kernelspec": {
   "display_name": "Python 3",
   "language": "python",
   "name": "python3"
  },
  "language_info": {
   "codemirror_mode": {
    "name": "ipython",
    "version": 3
   },
   "file_extension": ".py",
   "mimetype": "text/x-python",
   "name": "python",
   "nbconvert_exporter": "python",
   "pygments_lexer": "ipython3",
   "version": "3.7.1"
  }
 },
 "nbformat": 4,
 "nbformat_minor": 2
}
