{
 "cells": [
  {
   "cell_type": "markdown",
   "metadata": {},
   "source": [
    "留出法直接将数据集D DD划分为两个互斥的部分，其中一部分作为训练集S SS，另一部分用作测试集T TT。\n",
    "\n",
    "通常训练集和测试集的比例为70%：30%。\n"
   ]
  },
  {
   "cell_type": "code",
   "execution_count": 1,
   "metadata": {},
   "outputs": [],
   "source": [
    "import numpy as np"
   ]
  },
  {
   "cell_type": "code",
   "execution_count": 11,
   "metadata": {},
   "outputs": [
    {
     "data": {
      "text/plain": [
       "array([0, 1, 0, 0, 1, 0, 1, 1, 0, 1])"
      ]
     },
     "execution_count": 11,
     "metadata": {},
     "output_type": "execute_result"
    }
   ],
   "source": [
    "# 随机产生我们的数据集\n",
    "x = np.random.randint(-10, 10, 10)\n",
    "y = (x > 0).astype(int)\n",
    "y"
   ]
  },
  {
   "cell_type": "code",
   "execution_count": 12,
   "metadata": {},
   "outputs": [],
   "source": [
    "# 先把下标的顺序打乱\n",
    "shuffle_indexs = np.random.permutation(len(x))\n",
    "# 看我们要留几成当作测试数据集\n",
    "test_radio = 0.3\n",
    "# 求出test的个数\n",
    "test_size = int(len(x)*test_radio)\n",
    "\n",
    "# 比如说我现在0-test_size当作test的数据 test_size-最后当成train数据\n",
    "test_indexs = shuffle_indexs[:test_size]\n",
    "train_indexs = shuffle_indexs[test_size:]"
   ]
  },
  {
   "cell_type": "code",
   "execution_count": 13,
   "metadata": {},
   "outputs": [
    {
     "data": {
      "text/plain": [
       "3"
      ]
     },
     "execution_count": 13,
     "metadata": {},
     "output_type": "execute_result"
    }
   ],
   "source": [
    "len(test_indexs) # 试验一下我们的测试数据集的个数"
   ]
  },
  {
   "cell_type": "code",
   "execution_count": 18,
   "metadata": {},
   "outputs": [],
   "source": [
    "# 使用fance indexing 进行取值\n",
    "train_x = x[train_indexs]\n",
    "train_y = y[train_indexs]\n",
    "\n",
    "test_x = x[test_indexs]\n",
    "test_y = y[test_indexs]"
   ]
  },
  {
   "cell_type": "code",
   "execution_count": 17,
   "metadata": {},
   "outputs": [
    {
     "data": {
      "text/plain": [
       "(3,)"
      ]
     },
     "execution_count": 17,
     "metadata": {},
     "output_type": "execute_result"
    }
   ],
   "source": [
    "test_x.shape"
   ]
  },
  {
   "cell_type": "markdown",
   "metadata": {},
   "source": [
    "### 到此，我们的留出法结束"
   ]
  }
 ],
 "metadata": {
  "kernelspec": {
   "display_name": "Python 3",
   "language": "python",
   "name": "python3"
  },
  "language_info": {
   "codemirror_mode": {
    "name": "ipython",
    "version": 3
   },
   "file_extension": ".py",
   "mimetype": "text/x-python",
   "name": "python",
   "nbconvert_exporter": "python",
   "pygments_lexer": "ipython3",
   "version": "3.7.1"
  }
 },
 "nbformat": 4,
 "nbformat_minor": 2
}
