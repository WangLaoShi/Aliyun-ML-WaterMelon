{
 "cells": [
  {
   "cell_type": "markdown",
   "metadata": {},
   "source": [
    "<div  align=\"center\">    \n",
    "    <img src = './img/31.png', width=600, height=200/>\n",
    "</div>"
   ]
  },
  {
   "cell_type": "code",
   "execution_count": 1,
   "metadata": {},
   "outputs": [],
   "source": [
    "import numpy as np\n",
    "import matplotlib.pyplot as plt"
   ]
  },
  {
   "cell_type": "markdown",
   "metadata": {},
   "source": [
    "实现我们的calinski_harabaz_score"
   ]
  },
  {
   "cell_type": "code",
   "execution_count": 2,
   "metadata": {},
   "outputs": [],
   "source": [
    "def calinski_harabaz_score(X, labels):\n",
    "    \n",
    "    k = np.unique(labels)\n",
    "    n_samples, _ = X.shape\n",
    "    extra_disp, intra_disp = 0., 0.\n",
    "    mean = np.mean(X, axis=0)\n",
    "    # 有几个Cluster， 我们就循环几遍\n",
    "    for i in range(len(k)):\n",
    "        # 得到我们质心k对应的cluster的数据\n",
    "        cluster_i = X[np.where(labels==k[i])[0]]\n",
    "        mean_i = np.mean(cluster_i, axis=0)\n",
    "        # cluster间分散矩阵\n",
    "        extra_disp += len(cluster_i) * np.sum((mean_i - mean) ** 2)\n",
    "        # Cluster内如果堆成一点，有可能取到零\n",
    "        # 这边我们需要注意的是cluster_i shape 是n*2 而mean_i 是 2*1 所以需要reshape一下\n",
    "        intra_disp += np.sum((cluster_i - mean_i.reshape(-1, 2)) ** 2)\n",
    "    return (1. if intra_disp == 0. else\n",
    "            extra_disp * (n_samples - k) /\n",
    "            (intra_disp * (k - 1.)))"
   ]
  },
  {
   "cell_type": "code",
   "execution_count": 3,
   "metadata": {},
   "outputs": [],
   "source": [
    "from Scripts.KMeans import KMeans\n",
    "from sklearn import datasets\n",
    "\n",
    "# 准备我们的数据集\n",
    "X,y=datasets.make_moons(n_samples=1000,noise=0.2)\n",
    "KM = KMeans(X, 3)"
   ]
  },
  {
   "cell_type": "code",
   "execution_count": 4,
   "metadata": {},
   "outputs": [],
   "source": [
    "idx,centroids = KM.runkMeans()"
   ]
  },
  {
   "cell_type": "code",
   "execution_count": 8,
   "metadata": {},
   "outputs": [
    {
     "name": "stderr",
     "output_type": "stream",
     "text": [
      "C:\\Users\\Administrator\\Anaconda3\\lib\\site-packages\\sklearn\\utils\\validation.py:761: DataConversionWarning: A column-vector y was passed when a 1d array was expected. Please change the shape of y to (n_samples, ), for example using ravel().\n",
      "  y = column_or_1d(y, warn=True)\n"
     ]
    },
    {
     "data": {
      "text/plain": [
       "1205.3561764841795"
      ]
     },
     "execution_count": 8,
     "metadata": {},
     "output_type": "execute_result"
    }
   ],
   "source": [
    "score = calinski_harabaz_score(X, idx)\n",
    "score"
   ]
  },
  {
   "cell_type": "code",
   "execution_count": 6,
   "metadata": {},
   "outputs": [
    {
     "data": {
      "text/plain": [
       "1205.3561764841795"
      ]
     },
     "execution_count": 6,
     "metadata": {},
     "output_type": "execute_result"
    }
   ],
   "source": [
    "from sklearn.cluster import KMeans\n",
    "from sklearn.metrics import calinski_harabaz_score\n",
    "\n",
    "model = KMeans(n_clusters=3, max_iter=10)\n",
    "model.fit(X)\n",
    "labels = model.labels_\n",
    "calinski_harabaz_score(X, labels)"
   ]
  },
  {
   "cell_type": "markdown",
   "metadata": {},
   "source": [
    "END"
   ]
  }
 ],
 "metadata": {
  "kernelspec": {
   "display_name": "Python 3",
   "language": "python",
   "name": "python3"
  },
  "language_info": {
   "codemirror_mode": {
    "name": "ipython",
    "version": 3
   },
   "file_extension": ".py",
   "mimetype": "text/x-python",
   "name": "python",
   "nbconvert_exporter": "python",
   "pygments_lexer": "ipython3",
   "version": "3.7.1"
  }
 },
 "nbformat": 4,
 "nbformat_minor": 2
}
