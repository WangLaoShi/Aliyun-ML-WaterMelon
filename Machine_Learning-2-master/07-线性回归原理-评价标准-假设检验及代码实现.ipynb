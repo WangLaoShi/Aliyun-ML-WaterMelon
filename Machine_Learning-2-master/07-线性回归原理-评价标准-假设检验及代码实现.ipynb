{
 "cells": [
  {
   "cell_type": "markdown",
   "metadata": {},
   "source": [
    "简单线性回归及代码实现"
   ]
  },
  {
   "cell_type": "markdown",
   "metadata": {},
   "source": [
    "<div  align=\"center\">    \n",
    "    <img src='./img/1.jpg', width= 600, height = 200>\n",
    "    <img src='./img/2.jpg', width= 600, height = 200>\n",
    "    <img src='./img/3.jpg', width= 600, height = 200>\n",
    "</div>"
   ]
  },
  {
   "cell_type": "code",
   "execution_count": 17,
   "metadata": {},
   "outputs": [],
   "source": [
    "import numpy as np\n",
    "from matplotlib import pyplot as plt"
   ]
  },
  {
   "cell_type": "code",
   "execution_count": 12,
   "metadata": {},
   "outputs": [
    {
     "data": {
      "text/plain": [
       "<matplotlib.collections.PathCollection at 0x188a88aec50>"
      ]
     },
     "execution_count": 12,
     "metadata": {},
     "output_type": "execute_result"
    },
    {
     "data": {
      "image/png": "[encoded data removed]",
      "text/plain": [
       "<Figure size 432x288 with 1 Axes>"
      ]
     },
     "metadata": {
      "needs_background": "light"
     },
     "output_type": "display_data"
    }
   ],
   "source": [
    "# 设置简单的数据\n",
    "X = np.array([2,3,4,5,6])\n",
    "Y = 2*X + np.random.normal(1, 2, 5)\n",
    "plt.scatter(X,Y)"
   ]
  },
  {
   "cell_type": "markdown",
   "metadata": {},
   "source": [
    "###### 根据推导得到的公式\n",
    "###### a=sum((xi−x¯)(yi−y¯)) / sum((xi−x¯)2) /n\n",
    "###### b=y¯−ax¯"
   ]
  },
  {
   "cell_type": "code",
   "execution_count": 13,
   "metadata": {},
   "outputs": [],
   "source": [
    "x_mean = np.mean(X)\n",
    "y_mean = np.mean(Y)"
   ]
  },
  {
   "cell_type": "code",
   "execution_count": 14,
   "metadata": {},
   "outputs": [],
   "source": [
    "n = 0.0\n",
    "d = 0.0\n",
    "for x,y in zip(X,Y):\n",
    "    n += (x-x_mean)*(y-y_mean)\n",
    "    d += (x-x_mean)**2\n",
    "    \n",
    "a = n/d\n",
    "b = y_mean-a*x_mean"
   ]
  },
  {
   "cell_type": "code",
   "execution_count": 22,
   "metadata": {},
   "outputs": [
    {
     "data": {
      "text/plain": [
       "[<matplotlib.lines.Line2D at 0x188a89a3eb8>]"
      ]
     },
     "execution_count": 22,
     "metadata": {},
     "output_type": "execute_result"
    },
    {
     "data": {
      "image/png": "[encoded data removed]",
      "text/plain": [
       "<Figure size 432x288 with 1 Axes>"
      ]
     },
     "metadata": {
      "needs_background": "light"
     },
     "output_type": "display_data"
    }
   ],
   "source": [
    "y_predict = [a*x+b for x in X]\n",
    "plt.scatter(X,Y)\n",
    "plt.plot(X,y_predict,color='r')"
   ]
  },
  {
   "cell_type": "markdown",
   "metadata": {},
   "source": [
    "评价标准"
   ]
  },
  {
   "cell_type": "code",
   "execution_count": 26,
   "metadata": {},
   "outputs": [
    {
     "name": "stdout",
     "output_type": "stream",
     "text": [
      "0.949906132005364\n"
     ]
    }
   ],
   "source": [
    "ss_residual = sum((y_predict - Y)**2)\n",
    "ss_total = sum((Y - y_mean)**2)\n",
    "\n",
    "Score = 1 - ss_residual / ss_total\n",
    "print(Score)"
   ]
  },
  {
   "cell_type": "markdown",
   "metadata": {},
   "source": [
    "进行假设检验"
   ]
  },
  {
   "cell_type": "code",
   "execution_count": 31,
   "metadata": {},
   "outputs": [
    {
     "name": "stdout",
     "output_type": "stream",
     "text": [
      "0.004831946715685431\n"
     ]
    }
   ],
   "source": [
    "n = 5\n",
    "beta1_hat = a\n",
    "se_model = np.sqrt(ss_residual/(n-2))\n",
    "sss = np.sqrt(sum((X - x_mean)**2))\n",
    "\n",
    "t_val = beta1_hat/(se_model/sss)\n",
    "from scipy.stats import t\n",
    "p_val = 2*(1 - t.cdf(t_val, n-2))\n",
    "print(p_val)"
   ]
  },
  {
   "cell_type": "code",
   "execution_count": 32,
   "metadata": {},
   "outputs": [],
   "source": [
    "# 小于我们的0.05，所以拒绝零假设，所以有线性关系"
   ]
  },
  {
   "cell_type": "markdown",
   "metadata": {},
   "source": [
    "END"
   ]
  }
 ],
 "metadata": {
  "kernelspec": {
   "display_name": "Python 3",
   "language": "python",
   "name": "python3"
  },
  "language_info": {
   "codemirror_mode": {
    "name": "ipython",
    "version": 3
   },
   "file_extension": ".py",
   "mimetype": "text/x-python",
   "name": "python",
   "nbconvert_exporter": "python",
   "pygments_lexer": "ipython3",
   "version": "3.7.1"
  }
 },
 "nbformat": 4,
 "nbformat_minor": 2
}
