{
 "cells": [
  {
   "cell_type": "code",
   "execution_count": 2,
   "metadata": {},
   "outputs": [
    {
     "data": {
      "text/plain": [
       "Text(0.5, 1.0, 'search')"
      ]
     },
     "execution_count": 2,
     "metadata": {},
     "output_type": "execute_result"
    },
    {
     "data": {
      "image/png": "[encoded data removed]",
      "text/plain": [
       "<Figure size 432x288 with 1 Axes>"
      ]
     },
     "metadata": {
      "needs_background": "light"
     },
     "output_type": "display_data"
    }
   ],
   "source": [
    "import numpy as np\n",
    "from matplotlib import pyplot as plt\n",
    "import math\n",
    "\n",
    "#自己弄的训练集和结果\n",
    "train_x = np.array([[1,1.2],[3,3.3],[5,2.2],[7,5.7],[9,8.4]])\n",
    "train_y = np.array([0,0,0,1,1])\n",
    "\n",
    "plt.scatter(train_x[train_y == 0,0],train_x[train_y == 0,1],color=\"r\",label=\"normal\")\n",
    "plt.scatter(train_x[train_y == 1,0],train_x[train_y == 1,1],color=\"g\",label=\"bad\")\n",
    "plt.title(\"search\")"
   ]
  },
  {
   "cell_type": "code",
   "execution_count": 4,
   "metadata": {},
   "outputs": [
    {
     "data": {
      "text/plain": [
       "Text(0.5, 1.0, 'search')"
      ]
     },
     "execution_count": 4,
     "metadata": {},
     "output_type": "execute_result"
    },
    {
     "data": {
      "image/png": "[encoded data removed]",
      "text/plain": [
       "<Figure size 432x288 with 1 Axes>"
      ]
     },
     "metadata": {
      "needs_background": "light"
     },
     "output_type": "display_data"
    }
   ],
   "source": [
    "#x是我们要测试的值在下图用蓝色表示\n",
    "x = np.array([6,3.7])\n",
    "\n",
    "plt.scatter(train_x[train_y == 0,0],train_x[train_y == 0,1],color=\"r\",label=\"normal\")\n",
    "plt.scatter(train_x[train_y == 1,0],train_x[train_y == 1,1],color=\"g\",label=\"bad\")\n",
    "plt.scatter(x[0],x[1],color=\"b\")\n",
    "plt.title(\"search\")"
   ]
  },
  {
   "cell_type": "code",
   "execution_count": 14,
   "metadata": {},
   "outputs": [],
   "source": [
    "#KNN，求x与其他点的距离，并保存进distant中去\n",
    "\n",
    "distant = []\n",
    "for x_train in train_x:\n",
    "    d = math.sqrt(np.sum((x - x_train)**2))\n",
    "    distant.append(d)\n",
    "#对所获取到的距离进行下标排序\n",
    "nearst = np.argsort(distant)\n",
    "\n",
    "# k =3 说明与三个数进行比较，看离谁近，则进行投票\n",
    "#从Y_train结果训练集中获取最近三个点的结果，通过索引来获取\n",
    "k = 3\n",
    "#获取到排序号的点坐标，进行相应Y_train中坐标的值，才是我们想要的\n",
    "topk_y = [train_y[i] for i in nearst[:k]]"
   ]
  },
  {
   "cell_type": "code",
   "execution_count": 15,
   "metadata": {},
   "outputs": [
    {
     "data": {
      "text/plain": [
       "[0, 1, 0]"
      ]
     },
     "execution_count": 15,
     "metadata": {},
     "output_type": "execute_result"
    }
   ],
   "source": [
    "topk_y  # 此时我们可以看到 0：1 是 2：1，所以我们应该分类为0类"
   ]
  },
  {
   "cell_type": "code",
   "execution_count": 17,
   "metadata": {},
   "outputs": [
    {
     "data": {
      "text/plain": [
       "0"
      ]
     },
     "execution_count": 17,
     "metadata": {},
     "output_type": "execute_result"
    }
   ],
   "source": [
    "from collections import Counter\n",
    "# 计数完进行投票\n",
    "votes = Counter(topk_y)\n",
    "# 把值存在predict中来\n",
    "predict = votes.most_common(1)[0][0]\n",
    "predict"
   ]
  },
  {
   "cell_type": "markdown",
   "metadata": {},
   "source": [
    "使用Scripts自己封装的KNN进行预测鸢尾花数据集"
   ]
  },
  {
   "cell_type": "code",
   "execution_count": 18,
   "metadata": {},
   "outputs": [],
   "source": [
    "from Scripts.KNN import KNN\n",
    "from sklearn import datasets\n",
    "from sklearn.model_selection import train_test_split\n",
    "from sklearn.preprocessing import StandardScaler\n",
    "from sklearn.metrics import accuracy_score\n",
    "iris = datasets.load_iris()\n",
    "\n",
    "iris_x = iris.data\n",
    "iris_y = iris.target"
   ]
  },
  {
   "cell_type": "code",
   "execution_count": 20,
   "metadata": {},
   "outputs": [],
   "source": [
    "# 进行我们的数据预处理\n",
    "train_x, test_x, train_y, test_y = train_test_split(iris_x, iris_y)\n",
    "stand_scaler = StandardScaler().fit(train_x)\n",
    "stand_train_x = stand_scaler.transform(train_x)\n",
    "stand_test_x = stand_scaler.transform(test_x)"
   ]
  },
  {
   "cell_type": "code",
   "execution_count": 21,
   "metadata": {},
   "outputs": [],
   "source": [
    "knn_cls = KNN(k = 3)"
   ]
  },
  {
   "cell_type": "code",
   "execution_count": 23,
   "metadata": {},
   "outputs": [
    {
     "data": {
      "text/plain": [
       "KNN(k=3)"
      ]
     },
     "execution_count": 23,
     "metadata": {},
     "output_type": "execute_result"
    }
   ],
   "source": [
    "knn_cls.fit(stand_train_x, train_y)"
   ]
  },
  {
   "cell_type": "code",
   "execution_count": 24,
   "metadata": {},
   "outputs": [],
   "source": [
    "y_predict = knn_cls.predict(stand_test_x)"
   ]
  },
  {
   "cell_type": "code",
   "execution_count": 30,
   "metadata": {},
   "outputs": [
    {
     "data": {
      "text/plain": [
       "1.0"
      ]
     },
     "execution_count": 30,
     "metadata": {},
     "output_type": "execute_result"
    }
   ],
   "source": [
    "accuracy_score(test_y, y_predict)   # 真的好棒，居然100%？？"
   ]
  }
 ],
 "metadata": {
  "kernelspec": {
   "display_name": "Python 3",
   "language": "python",
   "name": "python3"
  },
  "language_info": {
   "codemirror_mode": {
    "name": "ipython",
    "version": 3
   },
   "file_extension": ".py",
   "mimetype": "text/x-python",
   "name": "python",
   "nbconvert_exporter": "python",
   "pygments_lexer": "ipython3",
   "version": "3.7.1"
  }
 },
 "nbformat": 4,
 "nbformat_minor": 2
}
