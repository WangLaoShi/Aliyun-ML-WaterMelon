{
 "cells": [
  {
   "cell_type": "markdown",
   "metadata": {},
   "source": [
    "# GMM EM算法"
   ]
  },
  {
   "cell_type": "code",
   "execution_count": 3,
   "metadata": {
    "collapsed": true
   },
   "outputs": [],
   "source": [
    "import math\n",
    "import numpy as np\n",
    "from utils.metric import calculate_covariance_matrix,euclidean_distance"
   ]
  },
  {
   "cell_type": "code",
   "execution_count": 51,
   "metadata": {
    "collapsed": true
   },
   "outputs": [],
   "source": [
    "class GaussianMixtureModel():\n",
    "    def __init__(self,k=3,max_iterations=400,tolerance=1e-8):\n",
    "        self.k = k\n",
    "        self.parameters = []\n",
    "        self.max_iterations = max_iterations\n",
    "        self.tolerance = tolerance\n",
    "        self.responsibilities = []\n",
    "        self.sample_assignments = None\n",
    "        self.responsibility = None\n",
    "    def _init_random_gaussians(self, X):\n",
    "        n_samples = np.shape(X)[0]\n",
    "        self.priors = (1./self.k) * np.ones(self.k)\n",
    "        for i in range(self.k):\n",
    "            params = {}\n",
    "            params['mean'] = X[np.random.choice(range(n_samples))]\n",
    "            params[\"cov\"] = calculate_covariance_matrix(X)\n",
    "            self.parameters.append(params)\n",
    "            \n",
    "    # 计算多元高斯分布\n",
    "    def multivariate_gaussian(self, X, params):\n",
    "        n_features = np.shape(X)[1]\n",
    "        mean = params[\"mean\"]\n",
    "        covar = params[\"cov\"]\n",
    "        determinant = np.linalg.det(covar)\n",
    "        likelihoods = np.zeros(np.shape(X)[0])\n",
    "        for i, sample in enumerate(X):\n",
    "            d = n_features\n",
    "            coeff = (1./(math.pow(2*math.pi,d/2)*math.sqrt(determinant)))\n",
    "            exponent = math.exp(-0.5 * (sample - mean).T.dot(np.linalg.pinv(covar)).dot((sample - mean)))\n",
    "            likelihoods[i] = coeff * exponent\n",
    "        \n",
    "        return likelihoods\n",
    "    def _get_likelihoods(self, X):\n",
    "        n_samples = np.shape(X)[0]\n",
    "        likelihoods = np.zeros((n_samples, self.k))\n",
    "        for i in range(self.k):\n",
    "            likelihoods[:,i] = self.multivariate_gaussian(X,self.parameters[i])\n",
    "        return likelihoods\n",
    "    # E步\n",
    "    def _expectation(self, X):\n",
    "        weighted_likelihoods = self._get_likelihoods(X) * self.priors \n",
    "        sum_likelihoods = np.expand_dims(np.sum(weighted_likelihoods, axis=1), axis=1)\n",
    "        self.responsibility = weighted_likelihoods / sum_likelihoods\n",
    "        self.sample_assignments = self.responsibility.argmax(axis=1)\n",
    "        self.responsibilities.append(np.max(self.responsibility, axis=1))\n",
    "    # M步\n",
    "    def _maximization(self, X):\n",
    "        for i in range(self.k):\n",
    "            resp = np.expand_dims(self.responsibility[:, i], axis=1)\n",
    "            mean = (resp * X).sum(axis=0) / resp.sum()\n",
    "            covariance = (X - mean).T.dot((X - mean) * resp) / resp.sum()\n",
    "            self.parameters[i][\"mean\"], self.parameters[i][\"cov\"] = mean, covariance\n",
    "        n_samples = np.shape(X)[0]\n",
    "        self.priors = self.responsibility.sum(axis=0) / n_samples\n",
    "            \n",
    "    def _converged(self, X):\n",
    "        if len(self.responsibilities) < 2:\n",
    "            return False\n",
    "        diff = np.linalg.norm(\n",
    "            self.responsibilities[-1] - self.responsibilities[-2])\n",
    "        return diff <= self.tolerance\n",
    "    def predict(self,X):\n",
    "        self._init_random_gaussians(X)\n",
    "        for _ in range(self.max_iterations):\n",
    "            self._expectation(X)\n",
    "            self._maximization(X)\n",
    "            if self._converged(X):\n",
    "                break\n",
    "        self._expectation(X)\n",
    "        return self.sample_assignments"
   ]
  },
  {
   "cell_type": "code",
   "execution_count": 68,
   "metadata": {},
   "outputs": [],
   "source": [
    "X = np.array([[ 0.697  ,0.46 ],\n",
    "                         [ 0.774  ,0.376],\n",
    "                         [ 0.634  ,0.264],\n",
    "                         [ 0.608  ,0.318],\n",
    "                         [ 0.556  ,0.215],\n",
    "                         [ 0.403  ,0.237],\n",
    "                         [ 0.481  ,0.149],\n",
    "                         [ 0.437  ,0.211],\n",
    "                         [ 0.666  ,0.091],\n",
    "                         [ 0.243  ,0.267],\n",
    "                         [ 0.245  ,0.057],\n",
    "                         [ 0.343  ,0.099],\n",
    "                         [ 0.639  ,0.161],\n",
    "                         [ 0.657  ,0.198],\n",
    "                         [ 0.36   ,0.37 ],\n",
    "                         [ 0.593  ,0.042],\n",
    "                         [ 0.719  ,0.103],\n",
    "                         [ 0.359  ,0.188],\n",
    "                         [ 0.339  ,0.241],\n",
    "                         [ 0.282  ,0.257],\n",
    "                         [ 0.748  ,0.232],\n",
    "                         [ 0.714  ,0.346],\n",
    "                         [ 0.483  ,0.312],\n",
    "                         [ 0.478  ,0.437],\n",
    "                         [ 0.525  ,0.369],\n",
    "                         [ 0.751  ,0.489],\n",
    "                         [ 0.532  ,0.472],\n",
    "                         [ 0.473  ,0.376],\n",
    "                         [ 0.725  ,0.445],\n",
    "                         [ 0.446  ,0.459]])\n",
    "clf = GaussianMixtureModel(k=3,max_iterations=10000,tolerance=1e-15)\n",
    "res = clf.predict(X)"
   ]
  },
  {
   "cell_type": "code",
   "execution_count": 69,
   "metadata": {
    "collapsed": true
   },
   "outputs": [],
   "source": [
    "from matplotlib import pyplot as plt\n",
    "%matplotlib inline"
   ]
  },
  {
   "cell_type": "code",
   "execution_count": 70,
   "metadata": {},
   "outputs": [],
   "source": [
    "k0 = X[res==0]\n",
    "k1 = X[res==1]\n",
    "k2 = X[res==2]"
   ]
  },
  {
   "cell_type": "code",
   "execution_count": 71,
   "metadata": {},
   "outputs": [
    {
     "data": {
      "text/plain": [
       "<matplotlib.collections.PathCollection at 0x117466eb8>"
      ]
     },
     "execution_count": 71,
     "metadata": {},
     "output_type": "execute_result"
    },
    {
     "data": {
      "image/png": "[encoded data removed]",
      "text/plain": [
       "<matplotlib.figure.Figure at 0x1171fab00>"
      ]
     },
     "metadata": {},
     "output_type": "display_data"
    }
   ],
   "source": [
    "plt.scatter(k0[:,0],k0[:,1])\n",
    "plt.scatter(k1[:,0],k1[:,1])\n",
    "plt.scatter(k2[:,0],k2[:,1])"
   ]
  },
  {
   "cell_type": "code",
   "execution_count": null,
   "metadata": {
    "collapsed": true
   },
   "outputs": [],
   "source": []
  }
 ],
 "metadata": {
  "kernelspec": {
   "display_name": "Python 3",
   "language": "python",
   "name": "python3"
  },
  "language_info": {
   "codemirror_mode": {
    "name": "ipython",
    "version": 3
   },
   "file_extension": ".py",
   "mimetype": "text/x-python",
   "name": "python",
   "nbconvert_exporter": "python",
   "pygments_lexer": "ipython3",
   "version": "3.6.1"
  }
 },
 "nbformat": 4,
 "nbformat_minor": 2
}
